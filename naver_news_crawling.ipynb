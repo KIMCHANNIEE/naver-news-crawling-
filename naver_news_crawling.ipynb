{
 "cells": [
  {
   "cell_type": "markdown",
   "id": "8ffe5468",
   "metadata": {},
   "source": [
    "### 라이브러리 설치"
   ]
  },
  {
   "cell_type": "code",
   "execution_count": 1,
   "id": "a65dd4c9",
   "metadata": {},
   "outputs": [
    {
     "name": "stdout",
     "output_type": "stream",
     "text": [
      "Requirement already satisfied: beautifulsoup4 in c:\\users\\wonny\\anaconda3\\lib\\site-packages (4.12.2)\n",
      "Requirement already satisfied: soupsieve>1.2 in c:\\users\\wonny\\anaconda3\\lib\\site-packages (from beautifulsoup4) (2.4)\n",
      "Requirement already satisfied: lxml in c:\\users\\wonny\\anaconda3\\lib\\site-packages (4.9.2)\n",
      "Requirement already satisfied: webdriver-manager in c:\\users\\wonny\\anaconda3\\lib\\site-packages (4.0.2)\n",
      "Requirement already satisfied: requests in c:\\users\\wonny\\anaconda3\\lib\\site-packages (from webdriver-manager) (2.29.0)\n",
      "Requirement already satisfied: python-dotenv in c:\\users\\wonny\\anaconda3\\lib\\site-packages (from webdriver-manager) (1.0.1)\n",
      "Requirement already satisfied: packaging in c:\\users\\wonny\\anaconda3\\lib\\site-packages (from webdriver-manager) (23.0)\n",
      "Requirement already satisfied: charset-normalizer<4,>=2 in c:\\users\\wonny\\anaconda3\\lib\\site-packages (from requests->webdriver-manager) (2.0.4)\n",
      "Requirement already satisfied: idna<4,>=2.5 in c:\\users\\wonny\\anaconda3\\lib\\site-packages (from requests->webdriver-manager) (3.4)\n",
      "Requirement already satisfied: urllib3<1.27,>=1.21.1 in c:\\users\\wonny\\anaconda3\\lib\\site-packages (from requests->webdriver-manager) (1.26.16)\n",
      "Requirement already satisfied: certifi>=2017.4.17 in c:\\users\\wonny\\anaconda3\\lib\\site-packages (from requests->webdriver-manager) (2023.5.7)\n",
      "Requirement already satisfied: selenium in c:\\users\\wonny\\anaconda3\\lib\\site-packages (4.25.0)\n",
      "Requirement already satisfied: urllib3[socks]<3,>=1.26 in c:\\users\\wonny\\anaconda3\\lib\\site-packages (from selenium) (1.26.16)\n",
      "Requirement already satisfied: trio~=0.17 in c:\\users\\wonny\\anaconda3\\lib\\site-packages (from selenium) (0.26.2)\n",
      "Requirement already satisfied: trio-websocket~=0.9 in c:\\users\\wonny\\anaconda3\\lib\\site-packages (from selenium) (0.11.1)\n",
      "Requirement already satisfied: certifi>=2021.10.8 in c:\\users\\wonny\\anaconda3\\lib\\site-packages (from selenium) (2023.5.7)\n",
      "Requirement already satisfied: typing_extensions~=4.9 in c:\\users\\wonny\\anaconda3\\lib\\site-packages (from selenium) (4.12.2)\n",
      "Requirement already satisfied: websocket-client~=1.8 in c:\\users\\wonny\\anaconda3\\lib\\site-packages (from selenium) (1.8.0)\n",
      "Requirement already satisfied: attrs>=23.2.0 in c:\\users\\wonny\\anaconda3\\lib\\site-packages (from trio~=0.17->selenium) (24.2.0)\n",
      "Requirement already satisfied: sortedcontainers in c:\\users\\wonny\\anaconda3\\lib\\site-packages (from trio~=0.17->selenium) (2.4.0)\n",
      "Requirement already satisfied: idna in c:\\users\\wonny\\anaconda3\\lib\\site-packages (from trio~=0.17->selenium) (3.4)\n",
      "Requirement already satisfied: outcome in c:\\users\\wonny\\anaconda3\\lib\\site-packages (from trio~=0.17->selenium) (1.3.0.post0)\n",
      "Requirement already satisfied: sniffio>=1.3.0 in c:\\users\\wonny\\anaconda3\\lib\\site-packages (from trio~=0.17->selenium) (1.3.1)\n",
      "Requirement already satisfied: cffi>=1.14 in c:\\users\\wonny\\anaconda3\\lib\\site-packages (from trio~=0.17->selenium) (1.15.1)\n",
      "Requirement already satisfied: wsproto>=0.14 in c:\\users\\wonny\\anaconda3\\lib\\site-packages (from trio-websocket~=0.9->selenium) (1.2.0)\n",
      "Requirement already satisfied: PySocks!=1.5.7,<2.0,>=1.5.6 in c:\\users\\wonny\\anaconda3\\lib\\site-packages (from urllib3[socks]<3,>=1.26->selenium) (1.7.1)\n",
      "Requirement already satisfied: pycparser in c:\\users\\wonny\\anaconda3\\lib\\site-packages (from cffi>=1.14->trio~=0.17->selenium) (2.21)\n",
      "Requirement already satisfied: h11<1,>=0.9.0 in c:\\users\\wonny\\anaconda3\\lib\\site-packages (from wsproto>=0.14->trio-websocket~=0.9->selenium) (0.14.0)\n",
      "Requirement already satisfied: pandas in c:\\users\\wonny\\anaconda3\\lib\\site-packages (1.5.3)\n",
      "Requirement already satisfied: python-dateutil>=2.8.1 in c:\\users\\wonny\\anaconda3\\lib\\site-packages (from pandas) (2.8.2)\n",
      "Requirement already satisfied: pytz>=2020.1 in c:\\users\\wonny\\anaconda3\\lib\\site-packages (from pandas) (2022.7)\n",
      "Requirement already satisfied: numpy>=1.21.0 in c:\\users\\wonny\\anaconda3\\lib\\site-packages (from pandas) (1.24.3)\n",
      "Requirement already satisfied: six>=1.5 in c:\\users\\wonny\\anaconda3\\lib\\site-packages (from python-dateutil>=2.8.1->pandas) (1.16.0)\n",
      "Requirement already satisfied: tqdm in c:\\users\\wonny\\anaconda3\\lib\\site-packages (4.65.0)\n",
      "Requirement already satisfied: colorama in c:\\users\\wonny\\anaconda3\\lib\\site-packages (from tqdm) (0.4.6)\n"
     ]
    }
   ],
   "source": [
    "!pip install beautifulsoup4\n",
    "!pip install lxml\n",
    "!pip install webdriver-manager\n",
    "!pip install selenium\n",
    "!pip install pandas\n",
    "!pip install tqdm"
   ]
  },
  {
   "cell_type": "markdown",
   "id": "e24684fc",
   "metadata": {},
   "source": [
    "### 라이브러리 임포트"
   ]
  },
  {
   "cell_type": "code",
   "execution_count": null,
   "id": "3a532aad",
   "metadata": {},
   "outputs": [],
   "source": [
    "#라이브러리 임포트\n",
    "from bs4 import BeautifulSoup\n",
    "import time\n",
    "import re\n",
    "import pandas as pd\n",
    "import requests\n",
    "\n",
    "from selenium import webdriver\n",
    "from selenium.webdriver.chrome.service import Service\n",
    "from webdriver_manager.chrome import ChromeDriverManager\n",
    "from tqdm.auto import tqdm "
   ]
  },
  {
   "cell_type": "markdown",
   "id": "3a2d3ae0",
   "metadata": {},
   "source": [
    "### 필요한 함수 정의"
   ]
  },
  {
   "cell_type": "code",
   "execution_count": 3,
   "id": "09b11131",
   "metadata": {},
   "outputs": [],
   "source": [
    "## 뉴스 제목 크롤링 하는 함수 정의\n",
    "def get_news_title(tag):\n",
    "    try:\n",
    "        title = tag.parent.parent.parent.find('a', 'news_tit').get('title')\n",
    "        \n",
    "    except:\n",
    "        title = tag.parent.parent.find('a', 'elss sub_tit').get('title')\n",
    "        \n",
    "    return title"
   ]
  },
  {
   "cell_type": "code",
   "execution_count": 4,
   "id": "88340f20",
   "metadata": {},
   "outputs": [],
   "source": [
    "## 뉴스 링크에 접속해서 컨텐츠 크롤링하는 함수 정의 \n",
    "def find_content(soup):\n",
    "    try:\n",
    "        content = soup.find('article').text\n",
    "    except:\n",
    "        content = soup.find('div','_article_content').text\n",
    "    return content"
   ]
  },
  {
   "cell_type": "markdown",
   "id": "5d747125",
   "metadata": {},
   "source": [
    "### 크롤링"
   ]
  },
  {
   "cell_type": "code",
   "execution_count": null,
   "id": "7cc0d7ba",
   "metadata": {},
   "outputs": [],
   "source": [
    "# 자신의 드라이버 경로 지정하기\n",
    "s = Service(ChromeDriverManager().install())\n",
    "driver = webdriver.Chrome(service = s)\n",
    "time.sleep(2)\n",
    "\n",
    "# 윈도우 크기 조절\n",
    "driver.maximize_window()"
   ]
  },
  {
   "cell_type": "code",
   "execution_count": null,
   "id": "22042c55",
   "metadata": {},
   "outputs": [],
   "source": [
    "#데이터 범위 (날짜) 지정\n",
    "date_range = list(map(lambda x: x.strftime('%Y.%m.%d'), pd.date_range(start = '20240422', end = '20240430')))"
   ]
  },
  {
   "cell_type": "code",
   "execution_count": null,
   "id": "027fab31",
   "metadata": {},
   "outputs": [],
   "source": [
    "## 데이터 긁어와서 df에 저장 \n",
    "df = pd.DataFrame()\n",
    "query = '민희진'\n",
    "\n",
    "for date in date_range:\n",
    "    url = f'https://search.naver.com/search.naver?where=news&query={query}&ds={date}&de={date}'\n",
    "    # 스크롤을 페이지 끝까지 내리는 코드\n",
    "    driver.get(url)\n",
    "    \n",
    "    last_height = driver.execute_script(\"return document.body.scrollHeight\")\n",
    "    n = 0\n",
    "    start = time.time()\n",
    "    while n < 100: # 최대 5번 스크롤 다운\n",
    "        driver.execute_script(\"window.scrollTo(0, document.body.scrollHeight);\")\n",
    "        time.sleep(1)  # 스크롤이 끝까지 내려가기를 기다리는 시간\n",
    "        new_height = driver.execute_script(\"return document.body.scrollHeight\")\n",
    "\n",
    "        if new_height == last_height: # 더 이상 내려가지 않는다는 의미\n",
    "            break\n",
    "\n",
    "        last_height = new_height\n",
    "        n += 1\n",
    "\n",
    "        if n % 100 == 0:\n",
    "            end = time.time()\n",
    "            \n",
    "    html = driver.page_source\n",
    "    soup = BeautifulSoup(html, 'html.parser')\n",
    "    \n",
    "    title_list = list(map(get_news_title, soup.find_all('a', text = '네이버뉴스')))\n",
    "    url_list = list(map(lambda x: x.get('href'), soup.find_all('a', text = '네이버뉴스')))\n",
    "    \n",
    "    part_df = pd.DataFrame({'title' : title_list,\n",
    "                              'url' : url_list,\n",
    "                              'date' : date})\n",
    "    \n",
    "    df = pd.concat([df, part_df])"
   ]
  },
  {
   "cell_type": "code",
   "execution_count": null,
   "id": "f8f84f05",
   "metadata": {},
   "outputs": [],
   "source": [
    "content_list = []\n",
    "entertain_url = []\n",
    "for url in tqdm(df['url']):\n",
    "    \n",
    "    if 'm.entertain.naver.com' not in url:\n",
    "        r = requests.get(url)\n",
    "        time.sleep(1)\n",
    "\n",
    "        html = r.text\n",
    "        soup = BeautifulSoup(html, 'html.parser')\n",
    "        content = soup.find('article')\n",
    "        if content.text is not None:\n",
    "            content = soup.find('article').text\n",
    "        else:\n",
    "            content = ''\n",
    "        content_list.append(content)\n",
    "       \n",
    "        \n",
    "    else:\n",
    "        entertain_url.append(url)\n",
    "        content = ''\n",
    "        content_list.append(content)"
   ]
  },
  {
   "cell_type": "code",
   "execution_count": null,
   "id": "3e15607f",
   "metadata": {},
   "outputs": [],
   "source": [
    "df['content'] = content_list"
   ]
  },
  {
   "cell_type": "code",
   "execution_count": null,
   "id": "0bc69ff0",
   "metadata": {},
   "outputs": [],
   "source": [
    "driver.quit()"
   ]
  },
  {
   "cell_type": "code",
   "execution_count": null,
   "id": "65e27f62",
   "metadata": {},
   "outputs": [],
   "source": []
  }
 ],
 "metadata": {
  "kernelspec": {
   "display_name": "Python 3 (ipykernel)",
   "language": "python",
   "name": "python3"
  },
  "language_info": {
   "codemirror_mode": {
    "name": "ipython",
    "version": 3
   },
   "file_extension": ".py",
   "mimetype": "text/x-python",
   "name": "python",
   "nbconvert_exporter": "python",
   "pygments_lexer": "ipython3",
   "version": "3.11.3"
  }
 },
 "nbformat": 4,
 "nbformat_minor": 5
}
